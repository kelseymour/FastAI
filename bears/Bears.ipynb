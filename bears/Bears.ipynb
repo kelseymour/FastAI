{
 "cells": [
  {
   "cell_type": "code",
   "execution_count": 1,
   "metadata": {
    "ExecuteTime": {
     "end_time": "2021-08-25T02:25:27.148506Z",
     "start_time": "2021-08-25T02:25:18.179477Z"
    },
    "gradient": {
     "editing": false
    }
   },
   "outputs": [
    {
     "name": "stdout",
     "output_type": "stream",
     "text": [
      "Requirement already satisfied: voila in /opt/anaconda3/envs/fastai/lib/python3.7/site-packages (0.2.10)\n",
      "Requirement already satisfied: nbclient<0.6,>=0.4.0 in /opt/anaconda3/envs/fastai/lib/python3.7/site-packages (from voila) (0.5.4)\n",
      "Requirement already satisfied: jupyter-client<7,>=6.1.3 in /opt/anaconda3/envs/fastai/lib/python3.7/site-packages (from voila) (6.1.12)\n",
      "Requirement already satisfied: nbconvert<7,>=6.0.0 in /opt/anaconda3/envs/fastai/lib/python3.7/site-packages (from voila) (6.1.0)\n",
      "Requirement already satisfied: jupyter-server<2.0.0,>=0.3.0 in /opt/anaconda3/envs/fastai/lib/python3.7/site-packages (from voila) (1.10.2)\n",
      "Requirement already satisfied: traitlets in /opt/anaconda3/envs/fastai/lib/python3.7/site-packages (from jupyter-client<7,>=6.1.3->voila) (5.0.5)\n",
      "Requirement already satisfied: python-dateutil>=2.1 in /opt/anaconda3/envs/fastai/lib/python3.7/site-packages (from jupyter-client<7,>=6.1.3->voila) (2.8.2)\n",
      "Requirement already satisfied: tornado>=4.1 in /opt/anaconda3/envs/fastai/lib/python3.7/site-packages (from jupyter-client<7,>=6.1.3->voila) (6.1)\n",
      "Requirement already satisfied: pyzmq>=13 in /opt/anaconda3/envs/fastai/lib/python3.7/site-packages (from jupyter-client<7,>=6.1.3->voila) (22.2.1)\n",
      "Requirement already satisfied: jupyter-core>=4.6.0 in /opt/anaconda3/envs/fastai/lib/python3.7/site-packages (from jupyter-client<7,>=6.1.3->voila) (4.7.1)\n",
      "Requirement already satisfied: websocket-client in /opt/anaconda3/envs/fastai/lib/python3.7/site-packages (from jupyter-server<2.0.0,>=0.3.0->voila) (1.2.1)\n",
      "Requirement already satisfied: argon2-cffi in /opt/anaconda3/envs/fastai/lib/python3.7/site-packages (from jupyter-server<2.0.0,>=0.3.0->voila) (20.1.0)\n",
      "Requirement already satisfied: terminado>=0.8.3 in /opt/anaconda3/envs/fastai/lib/python3.7/site-packages (from jupyter-server<2.0.0,>=0.3.0->voila) (0.11.1)\n",
      "Requirement already satisfied: ipython-genutils in /opt/anaconda3/envs/fastai/lib/python3.7/site-packages (from jupyter-server<2.0.0,>=0.3.0->voila) (0.2.0)\n",
      "Requirement already satisfied: jinja2 in /opt/anaconda3/envs/fastai/lib/python3.7/site-packages (from jupyter-server<2.0.0,>=0.3.0->voila) (3.0.1)\n",
      "Requirement already satisfied: prometheus-client in /opt/anaconda3/envs/fastai/lib/python3.7/site-packages (from jupyter-server<2.0.0,>=0.3.0->voila) (0.11.0)\n",
      "Requirement already satisfied: requests-unixsocket in /opt/anaconda3/envs/fastai/lib/python3.7/site-packages (from jupyter-server<2.0.0,>=0.3.0->voila) (0.2.0)\n",
      "Requirement already satisfied: nbformat in /opt/anaconda3/envs/fastai/lib/python3.7/site-packages (from jupyter-server<2.0.0,>=0.3.0->voila) (5.1.3)\n",
      "Requirement already satisfied: Send2Trash in /opt/anaconda3/envs/fastai/lib/python3.7/site-packages (from jupyter-server<2.0.0,>=0.3.0->voila) (1.8.0)\n",
      "Requirement already satisfied: anyio<4,>=3.1.0 in /opt/anaconda3/envs/fastai/lib/python3.7/site-packages (from jupyter-server<2.0.0,>=0.3.0->voila) (3.3.0)\n",
      "Requirement already satisfied: sniffio>=1.1 in /opt/anaconda3/envs/fastai/lib/python3.7/site-packages (from anyio<4,>=3.1.0->jupyter-server<2.0.0,>=0.3.0->voila) (1.2.0)\n",
      "Requirement already satisfied: idna>=2.8 in /opt/anaconda3/envs/fastai/lib/python3.7/site-packages (from anyio<4,>=3.1.0->jupyter-server<2.0.0,>=0.3.0->voila) (3.2)\n",
      "Requirement already satisfied: typing-extensions in /opt/anaconda3/envs/fastai/lib/python3.7/site-packages (from anyio<4,>=3.1.0->jupyter-server<2.0.0,>=0.3.0->voila) (3.10.0.0)\n",
      "Requirement already satisfied: nest-asyncio in /opt/anaconda3/envs/fastai/lib/python3.7/site-packages (from nbclient<0.6,>=0.4.0->voila) (1.5.1)\n",
      "Requirement already satisfied: pygments>=2.4.1 in /opt/anaconda3/envs/fastai/lib/python3.7/site-packages (from nbconvert<7,>=6.0.0->voila) (2.10.0)\n",
      "Requirement already satisfied: bleach in /opt/anaconda3/envs/fastai/lib/python3.7/site-packages (from nbconvert<7,>=6.0.0->voila) (4.0.0)\n",
      "Requirement already satisfied: pandocfilters>=1.4.1 in /opt/anaconda3/envs/fastai/lib/python3.7/site-packages (from nbconvert<7,>=6.0.0->voila) (1.4.3)\n",
      "Requirement already satisfied: testpath in /opt/anaconda3/envs/fastai/lib/python3.7/site-packages (from nbconvert<7,>=6.0.0->voila) (0.5.0)\n",
      "Requirement already satisfied: defusedxml in /opt/anaconda3/envs/fastai/lib/python3.7/site-packages (from nbconvert<7,>=6.0.0->voila) (0.7.1)\n",
      "Requirement already satisfied: entrypoints>=0.2.2 in /opt/anaconda3/envs/fastai/lib/python3.7/site-packages (from nbconvert<7,>=6.0.0->voila) (0.3)\n",
      "Requirement already satisfied: jupyterlab-pygments in /opt/anaconda3/envs/fastai/lib/python3.7/site-packages (from nbconvert<7,>=6.0.0->voila) (0.1.2)\n",
      "Requirement already satisfied: mistune<2,>=0.8.1 in /opt/anaconda3/envs/fastai/lib/python3.7/site-packages (from nbconvert<7,>=6.0.0->voila) (0.8.4)\n",
      "Requirement already satisfied: MarkupSafe>=2.0 in /opt/anaconda3/envs/fastai/lib/python3.7/site-packages (from jinja2->jupyter-server<2.0.0,>=0.3.0->voila) (2.0.1)\n",
      "Requirement already satisfied: jsonschema!=2.5.0,>=2.4 in /opt/anaconda3/envs/fastai/lib/python3.7/site-packages (from nbformat->jupyter-server<2.0.0,>=0.3.0->voila) (3.2.0)\n",
      "Requirement already satisfied: setuptools in /opt/anaconda3/envs/fastai/lib/python3.7/site-packages (from jsonschema!=2.5.0,>=2.4->nbformat->jupyter-server<2.0.0,>=0.3.0->voila) (52.0.0.post20210125)\n",
      "Requirement already satisfied: pyrsistent>=0.14.0 in /opt/anaconda3/envs/fastai/lib/python3.7/site-packages (from jsonschema!=2.5.0,>=2.4->nbformat->jupyter-server<2.0.0,>=0.3.0->voila) (0.18.0)\n",
      "Requirement already satisfied: importlib-metadata in /opt/anaconda3/envs/fastai/lib/python3.7/site-packages (from jsonschema!=2.5.0,>=2.4->nbformat->jupyter-server<2.0.0,>=0.3.0->voila) (4.6.4)\n",
      "Requirement already satisfied: six>=1.11.0 in /opt/anaconda3/envs/fastai/lib/python3.7/site-packages (from jsonschema!=2.5.0,>=2.4->nbformat->jupyter-server<2.0.0,>=0.3.0->voila) (1.16.0)\n",
      "Requirement already satisfied: attrs>=17.4.0 in /opt/anaconda3/envs/fastai/lib/python3.7/site-packages (from jsonschema!=2.5.0,>=2.4->nbformat->jupyter-server<2.0.0,>=0.3.0->voila) (21.2.0)\n",
      "Requirement already satisfied: ptyprocess in /opt/anaconda3/envs/fastai/lib/python3.7/site-packages (from terminado>=0.8.3->jupyter-server<2.0.0,>=0.3.0->voila) (0.7.0)\n",
      "Requirement already satisfied: cffi>=1.0.0 in /opt/anaconda3/envs/fastai/lib/python3.7/site-packages (from argon2-cffi->jupyter-server<2.0.0,>=0.3.0->voila) (1.14.6)\n",
      "Requirement already satisfied: pycparser in /opt/anaconda3/envs/fastai/lib/python3.7/site-packages (from cffi>=1.0.0->argon2-cffi->jupyter-server<2.0.0,>=0.3.0->voila) (2.20)\n",
      "Requirement already satisfied: packaging in /opt/anaconda3/envs/fastai/lib/python3.7/site-packages (from bleach->nbconvert<7,>=6.0.0->voila) (21.0)\n",
      "Requirement already satisfied: webencodings in /opt/anaconda3/envs/fastai/lib/python3.7/site-packages (from bleach->nbconvert<7,>=6.0.0->voila) (0.5.1)\n",
      "Requirement already satisfied: zipp>=0.5 in /opt/anaconda3/envs/fastai/lib/python3.7/site-packages (from importlib-metadata->jsonschema!=2.5.0,>=2.4->nbformat->jupyter-server<2.0.0,>=0.3.0->voila) (3.5.0)\n",
      "Requirement already satisfied: pyparsing>=2.0.2 in /opt/anaconda3/envs/fastai/lib/python3.7/site-packages (from packaging->bleach->nbconvert<7,>=6.0.0->voila) (2.4.7)\n",
      "Requirement already satisfied: urllib3>=1.8 in /opt/anaconda3/envs/fastai/lib/python3.7/site-packages (from requests-unixsocket->jupyter-server<2.0.0,>=0.3.0->voila) (1.26.6)\n",
      "Requirement already satisfied: requests>=1.1 in /opt/anaconda3/envs/fastai/lib/python3.7/site-packages (from requests-unixsocket->jupyter-server<2.0.0,>=0.3.0->voila) (2.26.0)\n",
      "Requirement already satisfied: certifi>=2017.4.17 in /opt/anaconda3/envs/fastai/lib/python3.7/site-packages (from requests>=1.1->requests-unixsocket->jupyter-server<2.0.0,>=0.3.0->voila) (2021.5.30)\n",
      "Requirement already satisfied: charset-normalizer~=2.0.0 in /opt/anaconda3/envs/fastai/lib/python3.7/site-packages (from requests>=1.1->requests-unixsocket->jupyter-server<2.0.0,>=0.3.0->voila) (2.0.4)\n",
      "Enabling: voila\n",
      "- Writing config: /opt/anaconda3/envs/fastai/etc/jupyter\n",
      "    - Validating...\n",
      "      voila 0.2.10 \u001b[32mOK\u001b[0m\n"
     ]
    }
   ],
   "source": [
    "#imports\n",
    "import fastbook\n",
    "fastbook.setup_book()\n",
    "from fastbook import *\n",
    "from fastai.vision.widgets import *\n",
    "import warnings\n",
    "warnings.filterwarnings('ignore')\n",
    "# !pip install voila\n",
    "# !jupyter serverextension enable --sys-prefix voila "
   ]
  },
  {
   "cell_type": "code",
   "execution_count": 2,
   "metadata": {
    "ExecuteTime": {
     "end_time": "2021-08-25T02:25:30.151114Z",
     "start_time": "2021-08-25T02:25:30.040802Z"
    },
    "gradient": {
     "editing": false
    }
   },
   "outputs": [],
   "source": [
    "#load model\n",
    "model_path = Path('model')\n",
    "learn_inf = load_learner(model_path/'export.pkl')"
   ]
  },
  {
   "cell_type": "code",
   "execution_count": 3,
   "metadata": {
    "ExecuteTime": {
     "end_time": "2021-08-25T02:25:31.459649Z",
     "start_time": "2021-08-25T02:25:31.029653Z"
    },
    "gradient": {
     "editing": false
    }
   },
   "outputs": [
    {
     "data": {
      "text/html": [],
      "text/plain": [
       "<IPython.core.display.HTML object>"
      ]
     },
     "metadata": {},
     "output_type": "display_data"
    }
   ],
   "source": [
    "#input\n",
    "btn_upload = widgets.FileUpload()\n",
    "btn_upload = SimpleNamespace(data = ['test_images/cute_grizzly.jpg'])\n",
    "img = PILImage.create(btn_upload.data[-1])\n",
    "#starting preds\n",
    "pred,pred_idx,probs = learn_inf.predict(img)\n",
    "\n",
    "#output image\n",
    "out_pl = widgets.Output()\n",
    "out_pl.clear_output()\n",
    "with out_pl: display(img.to_thumb(128,128))\n",
    "\n",
    "#output label\n",
    "lbl_pred = widgets.Label()\n",
    "lbl_pred.value = f'Prediction: {pred}; Probability: {probs[pred_idx]:.04f}'\n",
    "\n",
    "#run button\n",
    "btn_run = widgets.Button(description='Classify')\n",
    "def on_click_classify(change):\n",
    "    img = PILImage.create(btn_upload.data[-1])\n",
    "    out_pl.clear_output()\n",
    "    with out_pl: display(img.to_thumb(128,128))\n",
    "    pred,pred_idx,probs = learn_inf.predict(img)\n",
    "    lbl_pred.value = f'Prediction: {pred}; Probability: {probs[pred_idx]:.04f}'\n",
    "btn_run.on_click(on_click_classify)\n",
    "\n",
    "btn_upload = widgets.FileUpload()"
   ]
  },
  {
   "cell_type": "code",
   "execution_count": 4,
   "metadata": {
    "ExecuteTime": {
     "end_time": "2021-08-25T02:25:31.939090Z",
     "start_time": "2021-08-25T02:25:31.882192Z"
    },
    "gradient": {
     "editing": true
    }
   },
   "outputs": [
    {
     "data": {
      "application/vnd.jupyter.widget-view+json": {
       "model_id": "f32612bf29ec4a32bdc2ba4cc3f293f9",
       "version_major": 2,
       "version_minor": 0
      },
      "text/plain": [
       "VBox(children=(Label(value='Select your bear!'), FileUpload(value={}, description='Upload'), Button(descriptio…"
      ]
     },
     "metadata": {},
     "output_type": "display_data"
    }
   ],
   "source": [
    "#widget\n",
    "VBox([widgets.Label('Select your bear!'), \n",
    "      btn_upload, btn_run, out_pl, lbl_pred])"
   ]
  },
  {
   "cell_type": "code",
   "execution_count": null,
   "metadata": {},
   "outputs": [],
   "source": []
  }
 ],
 "metadata": {
  "jupytext": {
   "split_at_heading": true
  },
  "kernelspec": {
   "display_name": "Python 3 (ipykernel)",
   "language": "python",
   "name": "python3"
  },
  "language_info": {
   "codemirror_mode": {
    "name": "ipython",
    "version": 3
   },
   "file_extension": ".py",
   "mimetype": "text/x-python",
   "name": "python",
   "nbconvert_exporter": "python",
   "pygments_lexer": "ipython3",
   "version": "3.7.11"
  },
  "toc": {
   "base_numbering": 1,
   "nav_menu": {},
   "number_sections": true,
   "sideBar": false,
   "skip_h1_title": true,
   "title_cell": "Table of Contents",
   "title_sidebar": "Contents",
   "toc_cell": false,
   "toc_position": {
    "height": "calc(100% - 180px)",
    "left": "10px",
    "top": "150px",
    "width": "165px"
   },
   "toc_section_display": false,
   "toc_window_display": false
  }
 },
 "nbformat": 4,
 "nbformat_minor": 4
}
